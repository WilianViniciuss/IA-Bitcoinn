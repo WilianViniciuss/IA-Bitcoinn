{
  "nbformat": 4,
  "nbformat_minor": 0,
  "metadata": {
    "colab": {
      "provenance": [],
      "toc_visible": true,
      "authorship_tag": "ABX9TyO3qkBZLzRfX1eXRmqe1tjd",
      "include_colab_link": true
    },
    "kernelspec": {
      "name": "python3",
      "display_name": "Python 3"
    },
    "language_info": {
      "name": "python"
    }
  },
  "cells": [
    {
      "cell_type": "markdown",
      "metadata": {
        "id": "view-in-github",
        "colab_type": "text"
      },
      "source": [
        "<a href=\"https://colab.research.google.com/github/WilianViniciuss/IA-Bitcoinn/blob/main/Untitled0.ipynb\" target=\"_parent\"><img src=\"https://colab.research.google.com/assets/colab-badge.svg\" alt=\"Open In Colab\"/></a>"
      ]
    },
    {
      "cell_type": "code",
      "source": [
        "!pip install pycoingecko\n"
      ],
      "metadata": {
        "colab": {
          "base_uri": "https://localhost:8080/"
        },
        "id": "FpofM0v75IZ_",
        "outputId": "2869acbe-d306-4208-89db-5f65aca8a49d"
      },
      "execution_count": null,
      "outputs": [
        {
          "output_type": "stream",
          "name": "stdout",
          "text": [
            "Requirement already satisfied: pycoingecko in /usr/local/lib/python3.10/dist-packages (3.2.0)\n",
            "Requirement already satisfied: requests in /usr/local/lib/python3.10/dist-packages (from pycoingecko) (2.32.3)\n",
            "Requirement already satisfied: charset-normalizer<4,>=2 in /usr/local/lib/python3.10/dist-packages (from requests->pycoingecko) (3.4.0)\n",
            "Requirement already satisfied: idna<4,>=2.5 in /usr/local/lib/python3.10/dist-packages (from requests->pycoingecko) (3.10)\n",
            "Requirement already satisfied: urllib3<3,>=1.21.1 in /usr/local/lib/python3.10/dist-packages (from requests->pycoingecko) (2.3.0)\n",
            "Requirement already satisfied: certifi>=2017.4.17 in /usr/local/lib/python3.10/dist-packages (from requests->pycoingecko) (2024.12.14)\n"
          ]
        }
      ]
    },
    {
      "cell_type": "code",
      "source": [
        "!pip install pandas\n"
      ],
      "metadata": {
        "colab": {
          "base_uri": "https://localhost:8080/"
        },
        "id": "BOCPhUQh5ycG",
        "outputId": "7696cd13-7feb-4e9c-bccf-88e131c245d7"
      },
      "execution_count": null,
      "outputs": [
        {
          "output_type": "stream",
          "name": "stdout",
          "text": [
            "Requirement already satisfied: pandas in /usr/local/lib/python3.10/dist-packages (2.2.2)\n",
            "Requirement already satisfied: numpy>=1.22.4 in /usr/local/lib/python3.10/dist-packages (from pandas) (1.26.4)\n",
            "Requirement already satisfied: python-dateutil>=2.8.2 in /usr/local/lib/python3.10/dist-packages (from pandas) (2.8.2)\n",
            "Requirement already satisfied: pytz>=2020.1 in /usr/local/lib/python3.10/dist-packages (from pandas) (2024.2)\n",
            "Requirement already satisfied: tzdata>=2022.7 in /usr/local/lib/python3.10/dist-packages (from pandas) (2024.2)\n",
            "Requirement already satisfied: six>=1.5 in /usr/local/lib/python3.10/dist-packages (from python-dateutil>=2.8.2->pandas) (1.17.0)\n"
          ]
        }
      ]
    },
    {
      "cell_type": "code",
      "source": [
        "!pip install numpy\n"
      ],
      "metadata": {
        "colab": {
          "base_uri": "https://localhost:8080/"
        },
        "id": "9Hy8Hpqe51km",
        "outputId": "df8cb3be-5409-48c3-f511-7bbf6510a68b"
      },
      "execution_count": null,
      "outputs": [
        {
          "output_type": "stream",
          "name": "stdout",
          "text": [
            "Requirement already satisfied: numpy in /usr/local/lib/python3.10/dist-packages (1.26.4)\n"
          ]
        }
      ]
    },
    {
      "cell_type": "code",
      "source": [
        "!pip install pycoingecko pandas scikit-learn"
      ],
      "metadata": {
        "colab": {
          "base_uri": "https://localhost:8080/"
        },
        "id": "3lQD17LA92Az",
        "outputId": "91fc8808-d4b0-45a8-82c6-6c97aca793ac"
      },
      "execution_count": null,
      "outputs": [
        {
          "output_type": "stream",
          "name": "stdout",
          "text": [
            "Requirement already satisfied: pycoingecko in /usr/local/lib/python3.10/dist-packages (3.2.0)\n",
            "Requirement already satisfied: pandas in /usr/local/lib/python3.10/dist-packages (2.2.2)\n",
            "Requirement already satisfied: scikit-learn in /usr/local/lib/python3.10/dist-packages (1.6.0)\n",
            "Requirement already satisfied: requests in /usr/local/lib/python3.10/dist-packages (from pycoingecko) (2.32.3)\n",
            "Requirement already satisfied: numpy>=1.22.4 in /usr/local/lib/python3.10/dist-packages (from pandas) (1.26.4)\n",
            "Requirement already satisfied: python-dateutil>=2.8.2 in /usr/local/lib/python3.10/dist-packages (from pandas) (2.8.2)\n",
            "Requirement already satisfied: pytz>=2020.1 in /usr/local/lib/python3.10/dist-packages (from pandas) (2024.2)\n",
            "Requirement already satisfied: tzdata>=2022.7 in /usr/local/lib/python3.10/dist-packages (from pandas) (2024.2)\n",
            "Requirement already satisfied: scipy>=1.6.0 in /usr/local/lib/python3.10/dist-packages (from scikit-learn) (1.13.1)\n",
            "Requirement already satisfied: joblib>=1.2.0 in /usr/local/lib/python3.10/dist-packages (from scikit-learn) (1.4.2)\n",
            "Requirement already satisfied: threadpoolctl>=3.1.0 in /usr/local/lib/python3.10/dist-packages (from scikit-learn) (3.5.0)\n",
            "Requirement already satisfied: six>=1.5 in /usr/local/lib/python3.10/dist-packages (from python-dateutil>=2.8.2->pandas) (1.17.0)\n",
            "Requirement already satisfied: charset-normalizer<4,>=2 in /usr/local/lib/python3.10/dist-packages (from requests->pycoingecko) (3.4.0)\n",
            "Requirement already satisfied: idna<4,>=2.5 in /usr/local/lib/python3.10/dist-packages (from requests->pycoingecko) (3.10)\n",
            "Requirement already satisfied: urllib3<3,>=1.21.1 in /usr/local/lib/python3.10/dist-packages (from requests->pycoingecko) (2.3.0)\n",
            "Requirement already satisfied: certifi>=2017.4.17 in /usr/local/lib/python3.10/dist-packages (from requests->pycoingecko) (2024.12.14)\n"
          ]
        }
      ]
    },
    {
      "cell_type": "markdown",
      "source": [
        "# **Código**"
      ],
      "metadata": {
        "id": "dpGzAr4c6CLg"
      }
    },
    {
      "cell_type": "code",
      "source": [
        "import pandas as pd\n",
        "import datetime\n",
        "from pycoingecko import CoinGeckoAPI\n",
        "from sklearn.preprocessing import PolynomialFeatures\n",
        "from sklearn.linear_model import LinearRegression\n",
        "import numpy as np\n",
        "\n",
        "# Função para obter dados históricos do CoinGecko (máximo de 365 dias)\n",
        "def get_historical_data_coingecko():\n",
        "    cg = CoinGeckoAPI()\n",
        "    # Limitação de 365 dias para CoinGecko\n",
        "    data = cg.get_coin_market_chart_range_by_id(id='bitcoin', vs_currency='usd',\n",
        "                                                from_timestamp=int((datetime.datetime.now() - datetime.timedelta(days=365)).timestamp()),\n",
        "                                                to_timestamp=int(datetime.datetime.now().timestamp()))\n",
        "    df = pd.DataFrame(data['prices'], columns=['timestamp', 'price'])\n",
        "    df['Date'] = pd.to_datetime(df['timestamp'], unit='ms')  # Converte o timestamp para datetime\n",
        "    df.set_index('Date', inplace=True)  # Define a coluna 'Date' como índice\n",
        "    return df\n",
        "\n",
        "# Função para obter preço atual de várias fontes\n",
        "def get_real_time_data():\n",
        "    cg = CoinGeckoAPI()\n",
        "    data = cg.get_price(ids='bitcoin', vs_currencies='usd')\n",
        "    return data['bitcoin']['usd']\n",
        "\n",
        "# Função para calcular o RSI (Relative Strength Index)\n",
        "def calculate_rsi(df, period=14):\n",
        "    delta = df['price'].diff()\n",
        "    gain = (delta.where(delta > 0, 0)).rolling(window=period).mean()\n",
        "    loss = (-delta.where(delta < 0, 0)).rolling(window=period).mean()\n",
        "\n",
        "    rs = gain / loss\n",
        "    rsi = 100 - (100 / (1 + rs))\n",
        "    df['RSI'] = rsi\n",
        "    return df\n",
        "\n",
        "# Função para calcular o MACD (Moving Average Convergence Divergence)\n",
        "def calculate_macd(df):\n",
        "    ema12 = df['price'].ewm(span=12, adjust=False).mean()\n",
        "    ema26 = df['price'].ewm(span=26, adjust=False).mean()\n",
        "    df['MACD'] = ema12 - ema26\n",
        "    df['MACD_signal'] = df['MACD'].ewm(span=9, adjust=False).mean()\n",
        "    return df\n",
        "\n",
        "# Função para prever o preço do Bitcoin para os próximos meses (a cada 15 dias)\n",
        "def predict_price(df, days_interval=15, months=6):\n",
        "    df['Date_ordinal'] = pd.to_datetime(df.index).map(datetime.datetime.toordinal)\n",
        "    X = df[['Date_ordinal']]\n",
        "    y = df['price']\n",
        "\n",
        "    # Usando Polynomial Regression para maior precisão\n",
        "    poly = PolynomialFeatures(degree=3)\n",
        "    X_poly = poly.fit_transform(X)\n",
        "    model = LinearRegression()\n",
        "    model.fit(X_poly, y)\n",
        "\n",
        "    # Prever para os próximos 6 meses, a cada 15 dias\n",
        "    future_dates = pd.date_range(df.index.max(), periods=(months * 2) + 1, freq=f'{days_interval}D')\n",
        "    future_dates_ordinal = future_dates.map(datetime.datetime.toordinal).values.reshape(-1, 1)\n",
        "    future_X_poly = poly.transform(future_dates_ordinal)\n",
        "    predictions = model.predict(future_X_poly)\n",
        "\n",
        "    forecast = pd.DataFrame({'Date': future_dates, 'Predicted Price': predictions})\n",
        "    return forecast\n",
        "\n",
        "# Função para gerar recomendação de compra/venda\n",
        "def generate_recommendation(df):\n",
        "    # Calculando RSI e MACD\n",
        "    latest_rsi = df['RSI'].iloc[-1]\n",
        "    latest_macd = df['MACD'].iloc[-1]\n",
        "\n",
        "    if latest_rsi < 30 and latest_macd > 0:\n",
        "        return 'Comprar (Acumular)'\n",
        "    elif latest_rsi > 70 and latest_macd < 0:\n",
        "        return 'Vender'\n",
        "    return None\n",
        "\n",
        "# Coletar dados históricos de CoinGecko\n",
        "df_coingecko = get_historical_data_coingecko()\n",
        "\n",
        "# Coletar preço atual\n",
        "price_current = get_real_time_data()\n",
        "\n",
        "# Calcular RSI e MACD\n",
        "df_coingecko = calculate_rsi(df_coingecko)\n",
        "df_coingecko = calculate_macd(df_coingecko)\n",
        "\n",
        "# Fazer previsões de preços para os próximos 6 meses (a cada 15 dias)\n",
        "forecast = predict_price(df_coingecko)\n",
        "\n",
        "# Gerar recomendação de compra/venda\n",
        "recommendation = generate_recommendation(df_coingecko)\n",
        "\n",
        "# Exibir os resultados\n",
        "print(f\"Preço atual do Bitcoin: ${price_current:,.2f}\\n\")\n",
        "print(\"\\nPrevisão de preços para os próximos 6 meses (a cada 15 dias):\")\n",
        "\n",
        "last_month = None\n",
        "for index, row in forecast.iterrows():\n",
        "    current_month = row['Date'].strftime('%B %Y')\n",
        "    if current_month != last_month:\n",
        "        if last_month is not None:\n",
        "            print()  # Adiciona uma linha entre os meses\n",
        "        print(f\"{current_month}:\")\n",
        "        last_month = current_month\n",
        "    print(f\"  Previsão para {row['Date'].strftime('%Y-%m-%d')}: ${row['Predicted Price']:.2f}\")\n",
        "\n",
        "print(\"\\nRecomendação a longo prazo:\")\n",
        "if recommendation:\n",
        "    print(f\"Recomendação: {recommendation}\")\n",
        "else:\n",
        "    print(\"Recomendação: Nenhuma recomendação clara.\")\n"
      ],
      "metadata": {
        "colab": {
          "base_uri": "https://localhost:8080/"
        },
        "id": "Dim753dLB456",
        "outputId": "05f77017-1f93-43ef-eb03-1bdff141346b"
      },
      "execution_count": null,
      "outputs": [
        {
          "output_type": "stream",
          "name": "stdout",
          "text": [
            "Preço atual do Bitcoin: $97,554.00\n",
            "\n",
            "\n",
            "Previsão de preços para os próximos 6 meses (a cada 15 dias):\n",
            "December 2024:\n",
            "  Previsão para 2024-12-24: $87521.85\n",
            "\n",
            "January 2025:\n",
            "  Previsão para 2025-01-08: $90220.72\n",
            "  Previsão para 2025-01-23: $93016.49\n",
            "\n",
            "February 2025:\n",
            "  Previsão para 2025-02-07: $95909.17\n",
            "  Previsão para 2025-02-22: $98898.77\n",
            "\n",
            "March 2025:\n",
            "  Previsão para 2025-03-09: $101985.27\n",
            "  Previsão para 2025-03-24: $105168.70\n",
            "\n",
            "April 2025:\n",
            "  Previsão para 2025-04-08: $108449.05\n",
            "  Previsão para 2025-04-23: $111826.33\n",
            "\n",
            "May 2025:\n",
            "  Previsão para 2025-05-08: $115300.54\n",
            "  Previsão para 2025-05-23: $118871.69\n",
            "\n",
            "June 2025:\n",
            "  Previsão para 2025-06-07: $122539.77\n",
            "  Previsão para 2025-06-22: $126304.80\n",
            "\n",
            "Recomendação a longo prazo:\n",
            "Recomendação: Nenhuma recomendação clara.\n"
          ]
        },
        {
          "output_type": "stream",
          "name": "stderr",
          "text": [
            "/usr/local/lib/python3.10/dist-packages/sklearn/utils/validation.py:2739: UserWarning: X does not have valid feature names, but PolynomialFeatures was fitted with feature names\n",
            "  warnings.warn(\n"
          ]
        }
      ]
    }
  ]
}